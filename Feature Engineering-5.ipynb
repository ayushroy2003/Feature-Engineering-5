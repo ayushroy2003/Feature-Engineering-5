{
 "cells": [
  {
   "cell_type": "markdown",
   "id": "f10e706d-b560-4030-b724-02bbc9806bf5",
   "metadata": {},
   "source": [
    "Q1. What is the difference between Ordinal Encoding and Label Encoding? Provide an example of when you\n",
    "might choose one over the other.\n",
    "\n",
    "Ans- \n",
    "1. Ordinal Encoding\n",
    "- Assumes an order or hierarchy among categories\n",
    "- Suitable for ordinal data (e.g., \"low\" ,\"Medium\" , \"High\")\n",
    "- Example:\n",
    "  \"low\" - 1 , \"Medium\"-2 , \"High\" - 3\n",
    "- Use when the categories have a natural ranking\n",
    "\n",
    "2. label encoding\n",
    "- Assigns arbitrary number to categories without assuming order\n",
    "- Suitable for Nominal data (\"Red\" ,\"Green\" , \"Blue)\n",
    "- Example:\n",
    "  \"Red\" - 0 ,Green - 1 ,\"Blue\" - 2\n",
    "- Use when the categories have no inherent ranking\n",
    "\n",
    "Choose one over the other \n",
    "- Use Ordinal Encoding for ranked data like education levels or customer satisfaction\n",
    "- Use Label encoding for unranked data like colors or cities."
   ]
  },
  {
   "cell_type": "markdown",
   "id": "4ac077bd-cc8a-4c64-8bba-6693dd68bba5",
   "metadata": {},
   "source": [
    "Q2. Explain how Target Guided Ordinal Encoding works and provide an example of when you might use it in\r\n",
    "a machine learning project\n",
    "\n",
    "Ans \n",
    "HOW IT WORK\n",
    "\n",
    "1. Group the data : Calculate the mean or median of the target variable for each category\n",
    "2. Order the Categories : Sort the categories based on the target mean/median\n",
    "3. Assign Number : Replace the categories with number based on the sorted order\n",
    "\n",
    "Example ."
   ]
  },
  {
   "cell_type": "code",
   "execution_count": 32,
   "id": "af0305d3-b32d-4c17-8e60-cdd53ebde6a4",
   "metadata": {},
   "outputs": [
    {
     "data": {
      "text/html": [
       "<div>\n",
       "<style scoped>\n",
       "    .dataframe tbody tr th:only-of-type {\n",
       "        vertical-align: middle;\n",
       "    }\n",
       "\n",
       "    .dataframe tbody tr th {\n",
       "        vertical-align: top;\n",
       "    }\n",
       "\n",
       "    .dataframe thead th {\n",
       "        text-align: right;\n",
       "    }\n",
       "</style>\n",
       "<table border=\"1\" class=\"dataframe\">\n",
       "  <thead>\n",
       "    <tr style=\"text-align: right;\">\n",
       "      <th></th>\n",
       "      <th>Neighborhood</th>\n",
       "      <th>House_Price(Target)</th>\n",
       "    </tr>\n",
       "  </thead>\n",
       "  <tbody>\n",
       "    <tr>\n",
       "      <th>0</th>\n",
       "      <td>A</td>\n",
       "      <td>250000</td>\n",
       "    </tr>\n",
       "    <tr>\n",
       "      <th>1</th>\n",
       "      <td>B</td>\n",
       "      <td>50000</td>\n",
       "    </tr>\n",
       "    <tr>\n",
       "      <th>2</th>\n",
       "      <td>A</td>\n",
       "      <td>300000</td>\n",
       "    </tr>\n",
       "    <tr>\n",
       "      <th>3</th>\n",
       "      <td>C</td>\n",
       "      <td>350000</td>\n",
       "    </tr>\n",
       "    <tr>\n",
       "      <th>4</th>\n",
       "      <td>B</td>\n",
       "      <td>100000</td>\n",
       "    </tr>\n",
       "    <tr>\n",
       "      <th>5</th>\n",
       "      <td>C</td>\n",
       "      <td>400000</td>\n",
       "    </tr>\n",
       "  </tbody>\n",
       "</table>\n",
       "</div>"
      ],
      "text/plain": [
       "  Neighborhood  House_Price(Target)\n",
       "0            A               250000\n",
       "1            B                50000\n",
       "2            A               300000\n",
       "3            C               350000\n",
       "4            B               100000\n",
       "5            C               400000"
      ]
     },
     "execution_count": 32,
     "metadata": {},
     "output_type": "execute_result"
    }
   ],
   "source": [
    "import pandas as pd\n",
    "from sklearn.preprocessing import OrdinalEncoder\n",
    "\n",
    "data = {\n",
    "    'Neighborhood' : ['A','B','A','C','B','C'],\n",
    "    'House_Price(Target)' : [250000,50000, 300000, 350000, 100000, 400000]\n",
    "    }\n",
    "df = pd.DataFrame(data)\n",
    "df"
   ]
  },
  {
   "cell_type": "code",
   "execution_count": 33,
   "id": "0431aa6e-95f6-4427-a12c-e576aed7f7a9",
   "metadata": {},
   "outputs": [],
   "source": [
    "mean_price= df.groupby('Neighborhood')['House_Price(Target)'].mean().to_dict()\n",
    "\n",
    "df['Neighborhood_encoded (mean)'] = df['Neighborhood'].map(mean_price)\n"
   ]
  },
  {
   "cell_type": "markdown",
   "id": "dad36777-d820-48db-8b36-3c5a38fef522",
   "metadata": {},
   "source": [
    "Q3. Define covariance and explain why it is important in statistical analysis. How is covariance calculated?\r\n",
    "Ans - Covariance measures the direction of the linear relationship between two variable. It Indicate whether two varibale increases or decreases together \n",
    "\n",
    "Importance in Statistcal Analysis\n",
    "- Identifies Relationships : Helps understand the relationship between two variables\n",
    "- Foundation for PCA : Used in Principal Component Analysis to reduce dimensionality\n",
    "- Feature Selction : Helps Identify features with strong relationship for model improvement\n",
    "\n",
    "formula calculation\n",
    "$$\\[ \\text{Cov}(X, Y) = \\frac{\\sum_{i=1}^{n} (X_i - \\overline{X})(Y_i - \\overline{Y})}{n}$$\n",
    "\r"
   ]
  },
  {
   "cell_type": "markdown",
   "id": "5b6d0e68-713c-49c8-91f9-28c656288048",
   "metadata": {},
   "source": [
    "Q4. For a dataset with the following categorical variables: Color (red, green, blue), Size (small, medium,\n",
    "large), and Material (wood, metal, plastic), perform label encoding using Python's scikit-learn library.\n",
    "Show your code and explain the output.\n",
    "\n",
    "Ans- "
   ]
  },
  {
   "cell_type": "code",
   "execution_count": 34,
   "id": "a0e1eaad-6c16-4d96-968a-600ce5f0946e",
   "metadata": {},
   "outputs": [
    {
     "data": {
      "text/html": [
       "<div>\n",
       "<style scoped>\n",
       "    .dataframe tbody tr th:only-of-type {\n",
       "        vertical-align: middle;\n",
       "    }\n",
       "\n",
       "    .dataframe tbody tr th {\n",
       "        vertical-align: top;\n",
       "    }\n",
       "\n",
       "    .dataframe thead th {\n",
       "        text-align: right;\n",
       "    }\n",
       "</style>\n",
       "<table border=\"1\" class=\"dataframe\">\n",
       "  <thead>\n",
       "    <tr style=\"text-align: right;\">\n",
       "      <th></th>\n",
       "      <th>Color</th>\n",
       "      <th>Size</th>\n",
       "      <th>Material</th>\n",
       "    </tr>\n",
       "  </thead>\n",
       "  <tbody>\n",
       "    <tr>\n",
       "      <th>0</th>\n",
       "      <td>red</td>\n",
       "      <td>small</td>\n",
       "      <td>wood</td>\n",
       "    </tr>\n",
       "    <tr>\n",
       "      <th>1</th>\n",
       "      <td>green</td>\n",
       "      <td>medium</td>\n",
       "      <td>metal</td>\n",
       "    </tr>\n",
       "    <tr>\n",
       "      <th>2</th>\n",
       "      <td>blue</td>\n",
       "      <td>large</td>\n",
       "      <td>plastic</td>\n",
       "    </tr>\n",
       "  </tbody>\n",
       "</table>\n",
       "</div>"
      ],
      "text/plain": [
       "   Color    Size Material\n",
       "0    red   small     wood\n",
       "1  green  medium    metal\n",
       "2   blue   large  plastic"
      ]
     },
     "execution_count": 34,
     "metadata": {},
     "output_type": "execute_result"
    }
   ],
   "source": [
    "from sklearn.preprocessing import LabelEncoder\n",
    "import pandas as pd \n",
    "\n",
    "data = {\n",
    "    'Color' : ['red','green','blue'],\n",
    "    'Size' : ['small','medium' ,'large'],\n",
    "    'Material' : ['wood','metal','plastic']\n",
    "}\n",
    "df = pd.DataFrame(data)\n",
    "df"
   ]
  },
  {
   "cell_type": "code",
   "execution_count": 35,
   "id": "0e79a3c3-2fbb-4929-8875-6acfc05e9407",
   "metadata": {},
   "outputs": [
    {
     "name": "stdout",
     "output_type": "stream",
     "text": [
      "   Color  Size  Material\n",
      "0      2     2         2\n",
      "1      1     1         0\n",
      "2      0     0         1\n"
     ]
    }
   ],
   "source": [
    "encoder = LabelEncoder()\n",
    "\n",
    "\n",
    "for column in df.columns:\n",
    "    df[column] = encoder.fit_transform(df[column])\n",
    "\n",
    "print(df)\n",
    "\n"
   ]
  },
  {
   "cell_type": "markdown",
   "id": "7d44dba7-93ce-4bb2-9d64-a69842c3a52b",
   "metadata": {},
   "source": [
    "Q5. Calculate the covariance matrix for the following variables in a dataset: Age, Income, and Education\n",
    "level. Interpret the results.\n",
    "\n",
    "Ans - "
   ]
  },
  {
   "cell_type": "code",
   "execution_count": 36,
   "id": "46b3b4b2-e19c-4bb5-b4a4-aa6061f598c0",
   "metadata": {},
   "outputs": [
    {
     "data": {
      "text/html": [
       "<div>\n",
       "<style scoped>\n",
       "    .dataframe tbody tr th:only-of-type {\n",
       "        vertical-align: middle;\n",
       "    }\n",
       "\n",
       "    .dataframe tbody tr th {\n",
       "        vertical-align: top;\n",
       "    }\n",
       "\n",
       "    .dataframe thead th {\n",
       "        text-align: right;\n",
       "    }\n",
       "</style>\n",
       "<table border=\"1\" class=\"dataframe\">\n",
       "  <thead>\n",
       "    <tr style=\"text-align: right;\">\n",
       "      <th></th>\n",
       "      <th>Age</th>\n",
       "      <th>Income</th>\n",
       "      <th>Education_Level</th>\n",
       "    </tr>\n",
       "  </thead>\n",
       "  <tbody>\n",
       "    <tr>\n",
       "      <th>0</th>\n",
       "      <td>20</td>\n",
       "      <td>30000</td>\n",
       "      <td>1</td>\n",
       "    </tr>\n",
       "    <tr>\n",
       "      <th>1</th>\n",
       "      <td>22</td>\n",
       "      <td>35000</td>\n",
       "      <td>2</td>\n",
       "    </tr>\n",
       "    <tr>\n",
       "      <th>2</th>\n",
       "      <td>24</td>\n",
       "      <td>40000</td>\n",
       "      <td>3</td>\n",
       "    </tr>\n",
       "    <tr>\n",
       "      <th>3</th>\n",
       "      <td>26</td>\n",
       "      <td>45000</td>\n",
       "      <td>3</td>\n",
       "    </tr>\n",
       "    <tr>\n",
       "      <th>4</th>\n",
       "      <td>28</td>\n",
       "      <td>50000</td>\n",
       "      <td>2</td>\n",
       "    </tr>\n",
       "    <tr>\n",
       "      <th>5</th>\n",
       "      <td>30</td>\n",
       "      <td>60000</td>\n",
       "      <td>3</td>\n",
       "    </tr>\n",
       "  </tbody>\n",
       "</table>\n",
       "</div>"
      ],
      "text/plain": [
       "   Age  Income  Education_Level\n",
       "0   20   30000                1\n",
       "1   22   35000                2\n",
       "2   24   40000                3\n",
       "3   26   45000                3\n",
       "4   28   50000                2\n",
       "5   30   60000                3"
      ]
     },
     "execution_count": 36,
     "metadata": {},
     "output_type": "execute_result"
    }
   ],
   "source": [
    "import numpy as np\n",
    "\n",
    "data = {\n",
    "    'Age': [20,22,24,26,28,30],\n",
    "    'Income' : [30000,35000,40000,45000,50000,60000],\n",
    "    'Education_Level' : [1,2,3,3,2,3]\n",
    "}\n",
    "df = pd.DataFrame(data)\n",
    "df"
   ]
  },
  {
   "cell_type": "code",
   "execution_count": 37,
   "id": "a9b0b188-a0c7-48e4-b7e5-da6ab0452d7a",
   "metadata": {},
   "outputs": [
    {
     "name": "stdout",
     "output_type": "stream",
     "text": [
      "                     Age        Income  Education_Level\n",
      "Age                 14.0  4.000000e+04         2.000000\n",
      "Income           40000.0  1.166667e+08      5666.666667\n",
      "Education_Level      2.0  5.666667e+03         0.666667\n"
     ]
    }
   ],
   "source": [
    "cov_matrix = df.cov()\n",
    "print(cov_matrix)"
   ]
  },
  {
   "cell_type": "code",
   "execution_count": null,
   "id": "db05ef48-4a36-4b6d-bbc1-cef9d3eff4c1",
   "metadata": {},
   "outputs": [],
   "source": []
  },
  {
   "cell_type": "markdown",
   "id": "60dfda7b-bdbe-4d1d-b6ca-e173dcd6e889",
   "metadata": {},
   "source": [
    "Q6. You are working on a machine learning project with a dataset containing several categorical\n",
    "variables, including \"Gender\" (Male/Female), \"Education Level\" (High School/Bachelor's/Master's/PhD),\n",
    "and \"Employment Status\" (Unemployed/Part-Time/Full-Time). Which encoding method would you use for\n",
    "each variable, and why?\n",
    "\n",
    "Ans - \n",
    "1. Gender : Label Encoding (since its binary )\n",
    "\n",
    "Reason : Since Gender has two categories , Label Encoding (0 for Male , 1 for female) works well and doesn't introduce any unnecessary complexity\n",
    "\n",
    "2. Education level : Ordinal Encoding\n",
    "\n",
    "Reason : Education Level has natural order (high school < bachelors < Master < phd) , so encoding it with ordinal values (0,1,2,3) preserves the order \n",
    "\n",
    "3. Employment Status : One Hot encoding\n",
    "\n",
    "Reason : Employment status is nominal variable ( no natural order). One hot encoding will create binary columns for each category (Unemployed,Part time,full time) to avoid introducing any un internded ordering\n"
   ]
  },
  {
   "cell_type": "markdown",
   "id": "ac8bbe6e-1e82-4ecf-99b2-186b5aa0ddcb",
   "metadata": {},
   "source": [
    "Q7. You are analyzing a dataset with two continuous variables, \"Temperature\" and \"Humidity\", and two\n",
    "categorical variables, \"Weather Condition\" (Sunny/Cloudy/Rainy) and \"Wind Direction\" (North/South/\n",
    "East/West). Calculate the covariance between each pair of variables and interpret the results.\n",
    "\n",
    "Ans- "
   ]
  },
  {
   "cell_type": "code",
   "execution_count": 38,
   "id": "56cf4a39-c5de-498d-88de-9ec0c79108d0",
   "metadata": {},
   "outputs": [
    {
     "data": {
      "text/html": [
       "<div>\n",
       "<style scoped>\n",
       "    .dataframe tbody tr th:only-of-type {\n",
       "        vertical-align: middle;\n",
       "    }\n",
       "\n",
       "    .dataframe tbody tr th {\n",
       "        vertical-align: top;\n",
       "    }\n",
       "\n",
       "    .dataframe thead th {\n",
       "        text-align: right;\n",
       "    }\n",
       "</style>\n",
       "<table border=\"1\" class=\"dataframe\">\n",
       "  <thead>\n",
       "    <tr style=\"text-align: right;\">\n",
       "      <th></th>\n",
       "      <th>Temperature</th>\n",
       "      <th>Humidity</th>\n",
       "      <th>Weather Condition</th>\n",
       "      <th>Wind Direction</th>\n",
       "    </tr>\n",
       "  </thead>\n",
       "  <tbody>\n",
       "    <tr>\n",
       "      <th>0</th>\n",
       "      <td>25</td>\n",
       "      <td>60</td>\n",
       "      <td>Sunny</td>\n",
       "      <td>North</td>\n",
       "    </tr>\n",
       "    <tr>\n",
       "      <th>1</th>\n",
       "      <td>22</td>\n",
       "      <td>65</td>\n",
       "      <td>Cloudy</td>\n",
       "      <td>South</td>\n",
       "    </tr>\n",
       "    <tr>\n",
       "      <th>2</th>\n",
       "      <td>30</td>\n",
       "      <td>50</td>\n",
       "      <td>Rainy</td>\n",
       "      <td>East</td>\n",
       "    </tr>\n",
       "    <tr>\n",
       "      <th>3</th>\n",
       "      <td>28</td>\n",
       "      <td>55</td>\n",
       "      <td>Sunny</td>\n",
       "      <td>West</td>\n",
       "    </tr>\n",
       "    <tr>\n",
       "      <th>4</th>\n",
       "      <td>26</td>\n",
       "      <td>70</td>\n",
       "      <td>Cloudy</td>\n",
       "      <td>North</td>\n",
       "    </tr>\n",
       "  </tbody>\n",
       "</table>\n",
       "</div>"
      ],
      "text/plain": [
       "   Temperature  Humidity Weather Condition Wind Direction\n",
       "0           25        60             Sunny          North\n",
       "1           22        65            Cloudy          South\n",
       "2           30        50             Rainy           East\n",
       "3           28        55             Sunny           West\n",
       "4           26        70            Cloudy          North"
      ]
     },
     "execution_count": 38,
     "metadata": {},
     "output_type": "execute_result"
    }
   ],
   "source": [
    "data = {\n",
    "    'Temperature': [25, 22, 30, 28, 26],\n",
    "    'Humidity': [60, 65, 50, 55, 70],\n",
    "    'Weather Condition': ['Sunny', 'Cloudy', 'Rainy', 'Sunny', 'Cloudy'],\n",
    "    'Wind Direction': ['North', 'South', 'East', 'West', 'North']\n",
    "}\n",
    "df = pd.DataFrame(data)\n",
    "df"
   ]
  },
  {
   "cell_type": "code",
   "execution_count": 39,
   "id": "d118fa07-5ac3-427f-adf7-be06ab2fe375",
   "metadata": {},
   "outputs": [
    {
     "name": "stdout",
     "output_type": "stream",
     "text": [
      "                     Age        Income  Education_Level\n",
      "Age                 14.0  4.000000e+04         2.000000\n",
      "Income           40000.0  1.166667e+08      5666.666667\n",
      "Education_Level      2.0  5.666667e+03         0.666667\n"
     ]
    }
   ],
   "source": [
    "encoder = LabelEncoder()\n",
    "\n",
    "df['Weather Condition'] = encoder.fit_transform(df['Weather Condition'])\n",
    "df['Wind Direction'] = encoder.fit_transform(df['Wind Direction'])\n",
    "cova_matrix = df.cov()\n",
    "print(cov_matrix)"
   ]
  },
  {
   "cell_type": "code",
   "execution_count": null,
   "id": "170744e8-be7b-4337-aaf0-2ce115199fb7",
   "metadata": {},
   "outputs": [],
   "source": []
  }
 ],
 "metadata": {
  "kernelspec": {
   "display_name": "Python 3 (ipykernel)",
   "language": "python",
   "name": "python3"
  },
  "language_info": {
   "codemirror_mode": {
    "name": "ipython",
    "version": 3
   },
   "file_extension": ".py",
   "mimetype": "text/x-python",
   "name": "python",
   "nbconvert_exporter": "python",
   "pygments_lexer": "ipython3",
   "version": "3.11.4"
  }
 },
 "nbformat": 4,
 "nbformat_minor": 5
}
